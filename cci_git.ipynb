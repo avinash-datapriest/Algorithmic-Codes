{
  "nbformat": 4,
  "nbformat_minor": 0,
  "metadata": {
    "colab": {
      "name": "cci_git.ipynb",
      "provenance": [],
      "collapsed_sections": []
    },
    "kernelspec": {
      "name": "python3",
      "display_name": "Python 3"
    }
  },
  "cells": [
    {
      "cell_type": "code",
      "metadata": {
        "id": "9Npp2Rkx7MIQ"
      },
      "source": [
        "pip install yfinance"
      ],
      "execution_count": null,
      "outputs": []
    },
    {
      "cell_type": "code",
      "metadata": {
        "colab": {
          "base_uri": "https://localhost:8080/"
        },
        "id": "kHfCOJyu7Vcb",
        "outputId": "c5b6eec0-e6de-4114-adbb-64ce2493a079"
      },
      "source": [
        "# Import necesary libraries\n",
        "import yfinance as yf\n",
        "import numpy as np\n",
        "import datetime as dt\n",
        "\n",
        "# Download historical data for required stocks\n",
        "ticker = \"TATASTEEL.NS\"\n",
        "ohlcv = yf.download(ticker,dt.date.today()-dt.timedelta(365),dt.datetime.today())"
      ],
      "execution_count": 2,
      "outputs": [
        {
          "output_type": "stream",
          "text": [
            "\r[*********************100%***********************]  1 of 1 completed\n"
          ],
          "name": "stdout"
        }
      ]
    },
    {
      "cell_type": "code",
      "metadata": {
        "id": "ijdKWk4q7u5E"
      },
      "source": [
        "#Indicator Functions\n",
        "\n",
        "#Commodity Channel Index : Default Period 20\n",
        "def CCI(DF, n): \n",
        "    #function calculating Commodity Channel Index, default period =20\n",
        "    df = DF.copy()\n",
        "    df[\"TP\"] = (df['High'] + df['Low'] + df['Adj Close']) / 3 \n",
        "    df[\"CCI\"] = ((df[\"TP\"] - df[\"TP\"].rolling(n).mean()) / (0.015 * df[\"TP\"].rolling(n).std()))\n",
        "    del df[\"TP\"]\n",
        "    df[\"CCI_up\"] = 100\n",
        "    df[\"CCI_dn\"] = -100\n",
        "    return df\n",
        "\n",
        "\n",
        "\n",
        "\n"
      ],
      "execution_count": 4,
      "outputs": []
    },
    {
      "cell_type": "code",
      "metadata": {
        "id": "RZl6wh71CBrU"
      },
      "source": [
        "ohlcv[[\"CCI\",\"CCI_up\",\"CCi_dn\"]]= CCI(ohlcv,20)[[\"CCI\",\"CCI_up\",\"CCI_dn\"]]\n",
        "\n"
      ],
      "execution_count": 5,
      "outputs": []
    },
    {
      "cell_type": "code",
      "metadata": {
        "colab": {
          "base_uri": "https://localhost:8080/",
          "height": 294
        },
        "id": "dq36SOQc9nVj",
        "outputId": "c9b6e5ba-6bc6-4dca-bde5-a67370ca6c2d"
      },
      "source": [
        "CCI(ohlcv,20)[:][[\"Adj Close\", \"CCI\",\"CCI_up\",\"CCI_dn\"]].plot()"
      ],
      "execution_count": 6,
      "outputs": [
        {
          "output_type": "execute_result",
          "data": {
            "text/plain": [
              "<matplotlib.axes._subplots.AxesSubplot at 0x7fe296907e10>"
            ]
          },
          "metadata": {
            "tags": []
          },
          "execution_count": 6
        },
        {
          "output_type": "display_data",
          "data": {
            "image/png": "[encoded data removed]",
            "text/plain": [
              "<Figure size 432x288 with 1 Axes>"
            ]
          },
          "metadata": {
            "tags": [],
            "needs_background": "light"
          }
        }
      ]
    },
    {
      "cell_type": "code",
      "metadata": {
        "colab": {
          "base_uri": "https://localhost:8080/",
          "height": 435
        },
        "id": "AbVyAzIW0G3l",
        "outputId": "e03bc5ef-72a0-420f-8f0b-b5d4ed00a3f6"
      },
      "source": [
        "ohlcv"
      ],
      "execution_count": 7,
      "outputs": [
        {
          "output_type": "execute_result",
          "data": {
            "text/html": [
              "<div>\n",
              "<style scoped>\n",
              "    .dataframe tbody tr th:only-of-type {\n",
              "        vertical-align: middle;\n",
              "    }\n",
              "\n",
              "    .dataframe tbody tr th {\n",
              "        vertical-align: top;\n",
              "    }\n",
              "\n",
              "    .dataframe thead th {\n",
              "        text-align: right;\n",
              "    }\n",
              "</style>\n",
              "<table border=\"1\" class=\"dataframe\">\n",
              "  <thead>\n",
              "    <tr style=\"text-align: right;\">\n",
              "      <th></th>\n",
              "      <th>Open</th>\n",
              "      <th>High</th>\n",
              "      <th>Low</th>\n",
              "      <th>Close</th>\n",
              "      <th>Adj Close</th>\n",
              "      <th>Volume</th>\n",
              "      <th>CCI</th>\n",
              "      <th>CCI_up</th>\n",
              "      <th>CCi_dn</th>\n",
              "    </tr>\n",
              "    <tr>\n",
              "      <th>Date</th>\n",
              "      <th></th>\n",
              "      <th></th>\n",
              "      <th></th>\n",
              "      <th></th>\n",
              "      <th></th>\n",
              "      <th></th>\n",
              "      <th></th>\n",
              "      <th></th>\n",
              "      <th></th>\n",
              "    </tr>\n",
              "  </thead>\n",
              "  <tbody>\n",
              "    <tr>\n",
              "      <th>2020-05-26</th>\n",
              "      <td>277.500000</td>\n",
              "      <td>284.399994</td>\n",
              "      <td>277.000000</td>\n",
              "      <td>280.450012</td>\n",
              "      <td>273.364380</td>\n",
              "      <td>12107559</td>\n",
              "      <td>NaN</td>\n",
              "      <td>100</td>\n",
              "      <td>-100</td>\n",
              "    </tr>\n",
              "    <tr>\n",
              "      <th>2020-05-27</th>\n",
              "      <td>282.200012</td>\n",
              "      <td>290.399994</td>\n",
              "      <td>279.049988</td>\n",
              "      <td>287.950012</td>\n",
              "      <td>280.674866</td>\n",
              "      <td>14007462</td>\n",
              "      <td>NaN</td>\n",
              "      <td>100</td>\n",
              "      <td>-100</td>\n",
              "    </tr>\n",
              "    <tr>\n",
              "      <th>2020-05-28</th>\n",
              "      <td>291.899994</td>\n",
              "      <td>298.600006</td>\n",
              "      <td>289.399994</td>\n",
              "      <td>295.500000</td>\n",
              "      <td>288.034119</td>\n",
              "      <td>16601958</td>\n",
              "      <td>NaN</td>\n",
              "      <td>100</td>\n",
              "      <td>-100</td>\n",
              "    </tr>\n",
              "    <tr>\n",
              "      <th>2020-05-29</th>\n",
              "      <td>292.100006</td>\n",
              "      <td>296.899994</td>\n",
              "      <td>287.850006</td>\n",
              "      <td>295.200012</td>\n",
              "      <td>287.741699</td>\n",
              "      <td>13127985</td>\n",
              "      <td>NaN</td>\n",
              "      <td>100</td>\n",
              "      <td>-100</td>\n",
              "    </tr>\n",
              "    <tr>\n",
              "      <th>2020-06-01</th>\n",
              "      <td>302.000000</td>\n",
              "      <td>317.799988</td>\n",
              "      <td>302.000000</td>\n",
              "      <td>315.200012</td>\n",
              "      <td>307.236389</td>\n",
              "      <td>24384360</td>\n",
              "      <td>NaN</td>\n",
              "      <td>100</td>\n",
              "      <td>-100</td>\n",
              "    </tr>\n",
              "    <tr>\n",
              "      <th>...</th>\n",
              "      <td>...</td>\n",
              "      <td>...</td>\n",
              "      <td>...</td>\n",
              "      <td>...</td>\n",
              "      <td>...</td>\n",
              "      <td>...</td>\n",
              "      <td>...</td>\n",
              "      <td>...</td>\n",
              "      <td>...</td>\n",
              "    </tr>\n",
              "    <tr>\n",
              "      <th>2021-05-20</th>\n",
              "      <td>1131.099976</td>\n",
              "      <td>1135.500000</td>\n",
              "      <td>1098.050049</td>\n",
              "      <td>1105.050049</td>\n",
              "      <td>1105.050049</td>\n",
              "      <td>28446253</td>\n",
              "      <td>22.204958</td>\n",
              "      <td>100</td>\n",
              "      <td>-100</td>\n",
              "    </tr>\n",
              "    <tr>\n",
              "      <th>2021-05-21</th>\n",
              "      <td>1114.000000</td>\n",
              "      <td>1123.900024</td>\n",
              "      <td>1105.849976</td>\n",
              "      <td>1113.099976</td>\n",
              "      <td>1113.099976</td>\n",
              "      <td>14104926</td>\n",
              "      <td>17.903959</td>\n",
              "      <td>100</td>\n",
              "      <td>-100</td>\n",
              "    </tr>\n",
              "    <tr>\n",
              "      <th>2021-05-24</th>\n",
              "      <td>1108.000000</td>\n",
              "      <td>1108.949951</td>\n",
              "      <td>1082.099976</td>\n",
              "      <td>1092.000000</td>\n",
              "      <td>1092.000000</td>\n",
              "      <td>18923842</td>\n",
              "      <td>-3.059250</td>\n",
              "      <td>100</td>\n",
              "      <td>-100</td>\n",
              "    </tr>\n",
              "    <tr>\n",
              "      <th>2021-05-25</th>\n",
              "      <td>1101.949951</td>\n",
              "      <td>1125.949951</td>\n",
              "      <td>1100.000000</td>\n",
              "      <td>1105.199951</td>\n",
              "      <td>1105.199951</td>\n",
              "      <td>18113752</td>\n",
              "      <td>3.438584</td>\n",
              "      <td>100</td>\n",
              "      <td>-100</td>\n",
              "    </tr>\n",
              "    <tr>\n",
              "      <th>2021-05-26</th>\n",
              "      <td>1090.500000</td>\n",
              "      <td>1094.000000</td>\n",
              "      <td>1072.500000</td>\n",
              "      <td>1081.849976</td>\n",
              "      <td>1081.849976</td>\n",
              "      <td>15375478</td>\n",
              "      <td>-29.314082</td>\n",
              "      <td>100</td>\n",
              "      <td>-100</td>\n",
              "    </tr>\n",
              "  </tbody>\n",
              "</table>\n",
              "<p>251 rows × 9 columns</p>\n",
              "</div>"
            ],
            "text/plain": [
              "                   Open         High          Low  ...        CCI  CCI_up  CCi_dn\n",
              "Date                                               ...                           \n",
              "2020-05-26   277.500000   284.399994   277.000000  ...        NaN     100    -100\n",
              "2020-05-27   282.200012   290.399994   279.049988  ...        NaN     100    -100\n",
              "2020-05-28   291.899994   298.600006   289.399994  ...        NaN     100    -100\n",
              "2020-05-29   292.100006   296.899994   287.850006  ...        NaN     100    -100\n",
              "2020-06-01   302.000000   317.799988   302.000000  ...        NaN     100    -100\n",
              "...                 ...          ...          ...  ...        ...     ...     ...\n",
              "2021-05-20  1131.099976  1135.500000  1098.050049  ...  22.204958     100    -100\n",
              "2021-05-21  1114.000000  1123.900024  1105.849976  ...  17.903959     100    -100\n",
              "2021-05-24  1108.000000  1108.949951  1082.099976  ...  -3.059250     100    -100\n",
              "2021-05-25  1101.949951  1125.949951  1100.000000  ...   3.438584     100    -100\n",
              "2021-05-26  1090.500000  1094.000000  1072.500000  ... -29.314082     100    -100\n",
              "\n",
              "[251 rows x 9 columns]"
            ]
          },
          "metadata": {
            "tags": []
          },
          "execution_count": 7
        }
      ]
    }
  ]
}